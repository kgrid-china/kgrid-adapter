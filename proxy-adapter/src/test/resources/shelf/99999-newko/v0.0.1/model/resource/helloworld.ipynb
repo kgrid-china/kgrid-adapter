{
 "cells": [
  {
   "cell_type": "code",
   "execution_count": 13,
   "metadata": {},
   "outputs": [],
   "source": [
    "import json\n",
    "REQUEST = json.dumps({\n",
    "    'path' : {},\n",
    "    'body' : {}\n",
    "})"
   ]
  },
  {
   "cell_type": "code",
   "execution_count": 14,
   "metadata": {
    "scrolled": false
   },
   "outputs": [
    {
     "name": "stdout",
     "output_type": "stream",
     "text": [
      "Hello World\n"
     ]
    }
   ],
   "source": [
    "# POST /helloworld\n",
    "request = json.loads(REQUEST)\n",
    "name = request['body'].get('name', 'World')\n",
    "print 'Hello, %s' % name"
   ]
  },
  {
   "cell_type": "code",
   "execution_count": 15,
   "metadata": {},
   "outputs": [
    {
     "name": "stdout",
     "output_type": "stream",
     "text": [
      "Ark id is ark:/naan/name\n"
     ]
    }
   ],
   "source": [
    "# GET /ark/:naan/:name\n",
    "request = json.loads(REQUEST)\n",
    "naan = request['path'].get('naan', 'naan')\n",
    "name = request['path'].get('name', 'name')\n",
    "print 'Ark id is ark:/%(naan)s/%(name)s' % {\"naan\":naan, \"name\":name}"
   ]
  }
 ],
 "metadata": {
  "kernelspec": {
   "display_name": "Python 3",
   "language": "python",
   "name": "python3"
  },
  "language_info": {
   "codemirror_mode": {
    "name": "ipython",
    "version": 3
   },
   "file_extension": ".py",
   "mimetype": "text/x-python",
   "name": "python",
   "nbconvert_exporter": "python",
   "pygments_lexer": "ipython3",
   "version": "3.6.5"
  }
 },
 "nbformat": 4,
 "nbformat_minor": 2
}
